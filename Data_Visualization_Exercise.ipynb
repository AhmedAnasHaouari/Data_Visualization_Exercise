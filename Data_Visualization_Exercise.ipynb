{
  "nbformat": 4,
  "nbformat_minor": 0,
  "metadata": {
    "colab": {
      "provenance": [],
      "mount_file_id": "1f7W_GtpjFI5ixmspOry-jjEwXs0pQ6f9",
      "authorship_tag": "ABX9TyMERstMzHpvmHmy8DX5ITr7",
      "include_colab_link": true
    },
    "kernelspec": {
      "name": "python3",
      "display_name": "Python 3"
    },
    "language_info": {
      "name": "python"
    }
  },
  "cells": [
    {
      "cell_type": "markdown",
      "metadata": {
        "id": "view-in-github",
        "colab_type": "text"
      },
      "source": [
        "<a href=\"https://colab.research.google.com/github/AhmedAnasHaouari/Data_Visualization_Exercise/blob/main/Data_Visualization_Exercise.ipynb\" target=\"_parent\"><img src=\"https://colab.research.google.com/assets/colab-badge.svg\" alt=\"Open In Colab\"/></a>"
      ]
    },
    {
      "cell_type": "markdown",
      "source": [
        "# Data Visualization Exercise (Core)\n"
      ],
      "metadata": {
        "id": "BcT3qCoK1TD4"
      }
    },
    {
      "cell_type": "markdown",
      "source": [
        "- Haouari Ahmed Anas\n",
        "- 10/10/2024"
      ],
      "metadata": {
        "id": "izuUv2fN1bCV"
      }
    },
    {
      "cell_type": "markdown",
      "source": [
        "# Load in dataset"
      ],
      "metadata": {
        "id": "n8UPfZ7R8BHE"
      }
    },
    {
      "cell_type": "code",
      "execution_count": null,
      "metadata": {
        "id": "0Px-j-cQ7_zO"
      },
      "outputs": [],
      "source": [
        "from google.colab import drive\n",
        "drive.mount('/content/drive')"
      ]
    },
    {
      "cell_type": "code",
      "source": [
        "import matplotlib.pyplot as plt\n",
        "import seaborn as sns\n",
        "import pandas as pd\n",
        "import numpy as np"
      ],
      "metadata": {
        "id": "V8NnNsi88LAm"
      },
      "execution_count": null,
      "outputs": []
    },
    {
      "cell_type": "code",
      "source": [
        "file_path = '/content/drive/MyDrive/datasets/Median Age at First Marriage .csv'\n",
        "df = pd.read_csv(file_path)\n",
        "df.head(5)"
      ],
      "metadata": {
        "id": "sUcMSkco8n6J"
      },
      "execution_count": null,
      "outputs": []
    },
    {
      "cell_type": "markdown",
      "source": [
        "# Reproducing Plot"
      ],
      "metadata": {
        "id": "5hk7HQbSwaLP"
      }
    },
    {
      "cell_type": "code",
      "source": [
        "df2006 = df['TimeFrame'] == '2015-2019'\n",
        "Pop = df['Population Density per Sq Mi'].loc[df2006].values\n",
        "Age = df['Median Age'].loc[df2006].values\n",
        "fig = plt.figure()\n",
        "\n",
        "fig.patch.set_facecolor('#e0e0e0')\n",
        "plt.scatter(Age, Pop, c= '#4472c4',s=7)\n",
        "plt.gca().set_facecolor('#f2f2f2')\n",
        "plt.xticks(fontsize = 9, c='#595959');\n",
        "plt.yticks(fontsize = 9, c='#595959');\n",
        "plt.xlabel('Average Age of Women at First Marriage (years)', color='#595959', fontsize=9, bbox=dict(facecolor='#fff2cc',edgecolor='none'))\n",
        "plt.ylabel('Population Density (people per square mile)', color='#595959', fontsize=9, bbox=dict(facecolor='#fff2cc',edgecolor='none'))\n",
        "plt.ylim(0, 1400)\n",
        "plt.xlim(24, 31)\n",
        "plt.grid(which = 'both')\n",
        "plt.gca().yaxis.grid(color='#dbdbdb', linestyle='--')\n",
        "plt.gca().xaxis.grid(color='#7f7f7f', linestyle='-')\n",
        "plt.gca().spines['top'].set_visible(False)\n",
        "plt.gca().spines['bottom'].set_visible(False)\n",
        "plt.gca().spines['left'].set_visible(False)\n",
        "plt.tick_params(axis='x', which='both', bottom=False, top=False)\n",
        "plt.tick_params(axis='y', which='both', left=False, right=False)"
      ],
      "metadata": {
        "id": "8fGpSVlpM9fX"
      },
      "execution_count": null,
      "outputs": []
    }
  ]
}